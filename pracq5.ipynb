{
  "nbformat": 4,
  "nbformat_minor": 0,
  "metadata": {
    "colab": {
      "provenance": []
    },
    "kernelspec": {
      "name": "python3",
      "display_name": "Python 3"
    },
    "language_info": {
      "name": "python"
    }
  },
  "cells": [
    {
      "cell_type": "code",
      "execution_count": 1,
      "metadata": {
        "id": "P_d9P1BN1vVW"
      },
      "outputs": [],
      "source": [
        "from sklearn.model_selection import train_test_split\n",
        "from sklearn.naive_bayes import GaussianNB\n",
        "from sklearn.neighbors import KNeighborsClassifier\n",
        "from sklearn.tree import DecisionTreeClassifier\n",
        "from sklearn.metrics import accuracy_score"
      ]
    },
    {
      "cell_type": "markdown",
      "source": [
        "#1 .Splitting Data"
      ],
      "metadata": {
        "id": "lv_BWLCQ3i9Z"
      }
    },
    {
      "cell_type": "code",
      "source": [
        "def split_data(X,Y,train_size):\n",
        "    X_train,X_test,Y_train,Y_test = train_test_split(X,Y,train_size=train_size,random_state=42)\n",
        "    return X_train,X_test,Y_train,Y_test"
      ],
      "metadata": {
        "id": "TJ2DyPxb23ov"
      },
      "execution_count": 11,
      "outputs": []
    },
    {
      "cell_type": "markdown",
      "source": [
        "2. Training and Evaluating Classifiers"
      ],
      "metadata": {
        "id": "0vnduNJw3nOp"
      }
    },
    {
      "cell_type": "code",
      "source": [
        "def train_and_evaluate(X_train,X_test,Y_train,Y_test):\n",
        "    classifiers = {\"Naive Bayes\" : GaussianNB(), \"KNN\" : KNeighborsClassifier() , \"Decision Tree\" : DecisionTreeClassifier()}\n",
        "\n",
        "    results = {}\n",
        "    for clsfr_name , clasfr in classifiers.items :\n",
        "      clasfr.fit(X_train,Y_train)\n",
        "      Y_pred = clsfr.predict(X_test)\n",
        "      accuracy = accuracy_score(Y_test,Y_pred)\n",
        "      results[clsfr_name] = accuracy\n",
        "\n",
        "    return results\n"
      ],
      "metadata": {
        "id": "RXFWGssZ3hfT"
      },
      "execution_count": 12,
      "outputs": []
    },
    {
      "cell_type": "markdown",
      "source": [
        "3. Main Function"
      ],
      "metadata": {
        "id": "Dm5HBNo95Bcq"
      }
    },
    {
      "cell_type": "code",
      "source": [
        "def main(data,ratios):\n",
        "  X = data.drop(columns =['target'])\n",
        "  Y = data['target']\n",
        "\n",
        "  results = {}\n",
        "\n",
        "  for ratio in ratios:\n",
        "    X_train,Y_train ,X_test,Y_test = split_data(X,Y,ratio)\n",
        "    results[ratio]= train_and_evaluate(X_train,X_test,Y_train,Y_test)\n",
        "\n",
        "\n",
        "  return results\n"
      ],
      "metadata": {
        "id": "m1YJLDmR4__Z"
      },
      "execution_count": 13,
      "outputs": []
    },
    {
      "cell_type": "code",
      "source": [
        "from sklearn.datasets import load_iris\n",
        "\n",
        "\n",
        "iris = load_iris()\n",
        "\n",
        "ratios = [0.75, 0.66]\n",
        "\n",
        "results = main(iris, ratios)\n",
        "\n",
        "print(results)"
      ],
      "metadata": {
        "id": "PHpb1ybo6QtA"
      },
      "execution_count": null,
      "outputs": []
    },
    {
      "cell_type": "markdown",
      "source": [
        "Part - II"
      ],
      "metadata": {
        "id": "RilPadX69dWc"
      }
    },
    {
      "cell_type": "code",
      "source": [
        "from sklearn.model_selection import train_test_split , cross_val_score\n",
        "from sklearn.naive_bayes import GaussianNB\n",
        "from sklearn.neighbors import KNeighborsClassifier\n",
        "from sklearn.tree import DecisionTreeClassifier\n",
        "from sklearn.datasets import load_iris\n",
        "import numpy as np"
      ],
      "metadata": {
        "id": "v0QJInDs9giG"
      },
      "execution_count": 30,
      "outputs": []
    },
    {
      "cell_type": "code",
      "source": [
        "iris = load_iris()\n",
        "X = iris.data\n",
        "Y = iris.target"
      ],
      "metadata": {
        "id": "lJtXgtz9-CzP"
      },
      "execution_count": 31,
      "outputs": []
    },
    {
      "cell_type": "code",
      "source": [
        "classifiers = {\n",
        "    \"Naive bayes \" : GaussianNB(),\n",
        "    \"KNN\" : KNeighborsClassifier(),\n",
        "    \"Decision Tree\" : DecisionTreeClassifier()\n",
        "}"
      ],
      "metadata": {
        "id": "W1y3fk8l-Wsf"
      },
      "execution_count": 32,
      "outputs": []
    },
    {
      "cell_type": "code",
      "source": [
        "def holdoutmethod(X,Y,clasfr):\n",
        "  X_train,Y_train ,X_test , Y_test = train_test_split(X,y,train_size = 0.75,random_state = 1)\n",
        "\n",
        "  clsfr.fit(X_train,Y_train)\n",
        "\n",
        "  return clsfr.score(X_test,Y_test)"
      ],
      "metadata": {
        "id": "s_TRT1BE--1k"
      },
      "execution_count": 33,
      "outputs": []
    },
    {
      "cell_type": "code",
      "source": [
        "def random_subsampling(X,y,clsfr ,noi = 10 , test_size =0.25):\n",
        "  accuracies = []\n",
        "\n",
        "  for _ in range(noi):\n",
        "    X_train,Y_train,X_test,Y_test = train_test_split(X,Y,test_size= test_size)\n",
        "    clsfr.fit(X_train,Y_train)\n",
        "    accuracies.append(clsfr.score(X_test,Y_test))\n",
        "\n",
        "  return np.mean(accuracies)"
      ],
      "metadata": {
        "id": "2vjz0GMT_hGf"
      },
      "execution_count": 34,
      "outputs": []
    },
    {
      "cell_type": "code",
      "source": [
        "def cross_validation(X,y,clsfr,cv=5):\n",
        "  accuracies = cross_val_score(clsfr,X,Y,cv=cv)\n",
        "  return np.mean(accuracies)"
      ],
      "metadata": {
        "id": "OWBUR5y9AYTM"
      },
      "execution_count": 35,
      "outputs": []
    },
    {
      "cell_type": "code",
      "source": [
        "results = {}\n",
        "\n",
        "for clsfr_name ,clsfr in classifiers.items():\n",
        "  holdoutaccuracy = holdoutmethod(X,Y,clsfr)\n",
        "  randomsubsampling = random_subsampling(X,Y,clsfr)\n",
        "  crossvalidate = cross_validation(X,Y,clsfr)\n",
        "  results[clsfr_name] = {\"HoldOut Accuracy\" : holdoutaccuracy , \"Random Sub Sampling\" : randomsubsampling , \"Cross Validation\" : crossvalidate }"
      ],
      "metadata": {
        "colab": {
          "base_uri": "https://localhost:8080/",
          "height": 332
        },
        "id": "8Ed20kUBAvvc",
        "outputId": "d5767fa2-6e64-45ae-f53c-3f8cb9fa329f"
      },
      "execution_count": 36,
      "outputs": [
        {
          "output_type": "error",
          "ename": "NameError",
          "evalue": "name 'y' is not defined",
          "traceback": [
            "\u001b[0;31m---------------------------------------------------------------------------\u001b[0m",
            "\u001b[0;31mNameError\u001b[0m                                 Traceback (most recent call last)",
            "\u001b[0;32m<ipython-input-36-c6cc0fd14114>\u001b[0m in \u001b[0;36m<cell line: 3>\u001b[0;34m()\u001b[0m\n\u001b[1;32m      2\u001b[0m \u001b[0;34m\u001b[0m\u001b[0m\n\u001b[1;32m      3\u001b[0m \u001b[0;32mfor\u001b[0m \u001b[0mclsfr_name\u001b[0m \u001b[0;34m,\u001b[0m\u001b[0mclsfr\u001b[0m \u001b[0;32min\u001b[0m \u001b[0mclassifiers\u001b[0m\u001b[0;34m.\u001b[0m\u001b[0mitems\u001b[0m\u001b[0;34m(\u001b[0m\u001b[0;34m)\u001b[0m\u001b[0;34m:\u001b[0m\u001b[0;34m\u001b[0m\u001b[0;34m\u001b[0m\u001b[0m\n\u001b[0;32m----> 4\u001b[0;31m   \u001b[0mholdoutaccuracy\u001b[0m \u001b[0;34m=\u001b[0m \u001b[0mholdoutmethod\u001b[0m\u001b[0;34m(\u001b[0m\u001b[0mX\u001b[0m\u001b[0;34m,\u001b[0m\u001b[0mY\u001b[0m\u001b[0;34m,\u001b[0m\u001b[0mclsfr\u001b[0m\u001b[0;34m)\u001b[0m\u001b[0;34m\u001b[0m\u001b[0;34m\u001b[0m\u001b[0m\n\u001b[0m\u001b[1;32m      5\u001b[0m   \u001b[0mrandomsubsampling\u001b[0m \u001b[0;34m=\u001b[0m \u001b[0mrandom_subsampling\u001b[0m\u001b[0;34m(\u001b[0m\u001b[0mX\u001b[0m\u001b[0;34m,\u001b[0m\u001b[0mY\u001b[0m\u001b[0;34m,\u001b[0m\u001b[0mclsfr\u001b[0m\u001b[0;34m)\u001b[0m\u001b[0;34m\u001b[0m\u001b[0;34m\u001b[0m\u001b[0m\n\u001b[1;32m      6\u001b[0m   \u001b[0mcrossvalidate\u001b[0m \u001b[0;34m=\u001b[0m \u001b[0mcross_validation\u001b[0m\u001b[0;34m(\u001b[0m\u001b[0mX\u001b[0m\u001b[0;34m,\u001b[0m\u001b[0mY\u001b[0m\u001b[0;34m,\u001b[0m\u001b[0mclsfr\u001b[0m\u001b[0;34m)\u001b[0m\u001b[0;34m\u001b[0m\u001b[0;34m\u001b[0m\u001b[0m\n",
            "\u001b[0;32m<ipython-input-33-9e8d3ad853b4>\u001b[0m in \u001b[0;36mholdoutmethod\u001b[0;34m(X, Y, clasfr)\u001b[0m\n\u001b[1;32m      1\u001b[0m \u001b[0;32mdef\u001b[0m \u001b[0mholdoutmethod\u001b[0m\u001b[0;34m(\u001b[0m\u001b[0mX\u001b[0m\u001b[0;34m,\u001b[0m\u001b[0mY\u001b[0m\u001b[0;34m,\u001b[0m\u001b[0mclasfr\u001b[0m\u001b[0;34m)\u001b[0m\u001b[0;34m:\u001b[0m\u001b[0;34m\u001b[0m\u001b[0;34m\u001b[0m\u001b[0m\n\u001b[0;32m----> 2\u001b[0;31m   \u001b[0mX_train\u001b[0m\u001b[0;34m,\u001b[0m\u001b[0mY_train\u001b[0m \u001b[0;34m,\u001b[0m\u001b[0mX_test\u001b[0m \u001b[0;34m,\u001b[0m \u001b[0mY_test\u001b[0m \u001b[0;34m=\u001b[0m \u001b[0mtrain_test_split\u001b[0m\u001b[0;34m(\u001b[0m\u001b[0mX\u001b[0m\u001b[0;34m,\u001b[0m\u001b[0my\u001b[0m\u001b[0;34m,\u001b[0m\u001b[0mtrain_size\u001b[0m \u001b[0;34m=\u001b[0m \u001b[0;36m0.75\u001b[0m\u001b[0;34m,\u001b[0m\u001b[0mrandom_state\u001b[0m \u001b[0;34m=\u001b[0m \u001b[0;36m1\u001b[0m\u001b[0;34m)\u001b[0m\u001b[0;34m\u001b[0m\u001b[0;34m\u001b[0m\u001b[0m\n\u001b[0m\u001b[1;32m      3\u001b[0m \u001b[0;34m\u001b[0m\u001b[0m\n\u001b[1;32m      4\u001b[0m   \u001b[0mclsfr\u001b[0m\u001b[0;34m.\u001b[0m\u001b[0mfit\u001b[0m\u001b[0;34m(\u001b[0m\u001b[0mX_train\u001b[0m\u001b[0;34m,\u001b[0m\u001b[0mY_train\u001b[0m\u001b[0;34m)\u001b[0m\u001b[0;34m\u001b[0m\u001b[0;34m\u001b[0m\u001b[0m\n\u001b[1;32m      5\u001b[0m \u001b[0;34m\u001b[0m\u001b[0m\n",
            "\u001b[0;31mNameError\u001b[0m: name 'y' is not defined"
          ]
        }
      ]
    },
    {
      "cell_type": "code",
      "source": [],
      "metadata": {
        "id": "RRVjJ-JPCUuA"
      },
      "execution_count": null,
      "outputs": []
    }
  ]
}